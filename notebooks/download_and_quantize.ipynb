{
 "cells": [
  {
   "cell_type": "code",
   "execution_count": 4,
   "metadata": {},
   "outputs": [],
   "source": [
    "from transformers import AutoTokenizer, AutoModel\n",
    "import torch"
   ]
  },
  {
   "cell_type": "code",
   "execution_count": 5,
   "metadata": {},
   "outputs": [],
   "source": [
    "name = 'paraphrase-multilingual-mpnet-base-v2'"
   ]
  },
  {
   "cell_type": "code",
   "execution_count": 6,
   "metadata": {},
   "outputs": [],
   "source": [
    "tokenizer = AutoTokenizer.from_pretrained(f'sentence-transformers/{name}')\n",
    "model = AutoModel.from_pretrained(f'sentence-transformers/{name}')"
   ]
  },
  {
   "cell_type": "code",
   "execution_count": 7,
   "metadata": {},
   "outputs": [
    {
     "data": {
      "text/plain": [
       "('paraphrase-multilingual-mpnet-base-v2/tokenizer_config.json',\n",
       " 'paraphrase-multilingual-mpnet-base-v2/special_tokens_map.json',\n",
       " 'paraphrase-multilingual-mpnet-base-v2/sentencepiece.bpe.model',\n",
       " 'paraphrase-multilingual-mpnet-base-v2/added_tokens.json',\n",
       " 'paraphrase-multilingual-mpnet-base-v2/tokenizer.json')"
      ]
     },
     "execution_count": 7,
     "metadata": {},
     "output_type": "execute_result"
    }
   ],
   "source": [
    "tokenizer.save_pretrained(name)"
   ]
  },
  {
   "cell_type": "code",
   "execution_count": 8,
   "metadata": {},
   "outputs": [],
   "source": [
    "encoded_input = tokenizer(['中文输入'], padding=True, truncation=True, return_tensors='pt')"
   ]
  },
  {
   "cell_type": "code",
   "execution_count": 9,
   "metadata": {},
   "outputs": [],
   "source": [
    "torch.onnx.export(model,               # model being run\n",
    "                  # model input (or a tuple for multiple inputs)\n",
    "                  (encoded_input['input_ids'], encoded_input['attention_mask']),\n",
    "                  \"sts.onnx\",   # where to save the model (can be a file or file-like object)\n",
    "                  export_params=True,        # store the trained parameter weights inside the model file\n",
    "                  opset_version=11,          # the ONNX version to export the model to\n",
    "                  do_constant_folding=True,  # whether to execute constant folding for optimization\n",
    "                  input_names = ['input_ids', 'attention_mask'],   # the model's input names\n",
    "                  output_names = ['output'], # the model's output names\n",
    "                  dynamic_axes={\n",
    "                      'input_ids' : {0 : 'batch_size', 1 : 'sequence_length'},\n",
    "                      'attention_mask' : {0 : 'batch_size', 1 : 'sequence_length'},# variable length axes\n",
    "                      'output' : {0 : 'batch_size', 1 : 'sequence_length'}\n",
    "                  })"
   ]
  },
  {
   "cell_type": "code",
   "execution_count": 1,
   "metadata": {},
   "outputs": [],
   "source": [
    "from onnxruntime.quantization import quantize_dynamic, QuantType\n",
    "# from onnxruntime.quantization import quantize_qat, QuantType\n",
    "\n",
    "quantized_model = quantize_dynamic(\n",
    "    './sts.onnx',\n",
    "    './stsq.onnx',\n",
    "    weight_type=QuantType.QUInt8\n",
    ")"
   ]
  },
  {
   "cell_type": "code",
   "execution_count": null,
   "metadata": {},
   "outputs": [],
   "source": []
  }
 ],
 "metadata": {
  "kernelspec": {
   "display_name": "Python 3",
   "language": "python",
   "name": "python3"
  },
  "language_info": {
   "codemirror_mode": {
    "name": "ipython",
    "version": 3
   },
   "file_extension": ".py",
   "mimetype": "text/x-python",
   "name": "python",
   "nbconvert_exporter": "python",
   "pygments_lexer": "ipython3",
   "version": "3.8.6"
  }
 },
 "nbformat": 4,
 "nbformat_minor": 4
}
