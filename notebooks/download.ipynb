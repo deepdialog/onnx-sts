{
 "cells": [
  {
   "cell_type": "code",
   "execution_count": 1,
   "metadata": {},
   "outputs": [
    {
     "name": "stdout",
     "output_type": "stream",
     "text": [
      "--2022-03-22 02:05:26--  https://github.com/zyh3826/UnsupervisedChineseSTSPytorch/raw/main/data/STS_B/cnsd-sts-train.txt\n",
      "Resolving github.com (github.com)... 20.205.243.166\n",
      "Connecting to github.com (github.com)|20.205.243.166|:443... connected.\n",
      "HTTP request sent, awaiting response... 302 Found\n",
      "Location: https://raw.githubusercontent.com/zyh3826/UnsupervisedChineseSTSPytorch/main/data/STS_B/cnsd-sts-train.txt [following]\n",
      "--2022-03-22 02:05:27--  https://raw.githubusercontent.com/zyh3826/UnsupervisedChineseSTSPytorch/main/data/STS_B/cnsd-sts-train.txt\n",
      "Resolving raw.githubusercontent.com (raw.githubusercontent.com)... 185.199.109.133, 185.199.110.133, 185.199.108.133, ...\n",
      "Connecting to raw.githubusercontent.com (raw.githubusercontent.com)|185.199.109.133|:443... connected.\n",
      "HTTP request sent, awaiting response... 200 OK\n",
      "Length: 679164 (663K) [text/plain]\n",
      "Saving to: ‘cnsd-sts-train.txt’\n",
      "\n",
      "cnsd-sts-train.txt  100%[===================>] 663.25K  --.-KB/s    in 0.006s  \n",
      "\n",
      "2022-03-22 02:05:27 (107 MB/s) - ‘cnsd-sts-train.txt’ saved [679164/679164]\n",
      "\n"
     ]
    }
   ],
   "source": [
    "!wget \"https://github.com/zyh3826/UnsupervisedChineseSTSPytorch/raw/main/data/STS_B/cnsd-sts-train.txt\""
   ]
  },
  {
   "cell_type": "code",
   "execution_count": 3,
   "metadata": {},
   "outputs": [
    {
     "name": "stdout",
     "output_type": "stream",
     "text": [
      "--2022-03-22 02:05:36--  https://github.com/zyh3826/UnsupervisedChineseSTSPytorch/raw/main/data/STS_B/cnsd-sts-test.txt\n",
      "Resolving github.com (github.com)... 20.205.243.166\n",
      "Connecting to github.com (github.com)|20.205.243.166|:443... connected.\n",
      "HTTP request sent, awaiting response... 302 Found\n",
      "Location: https://raw.githubusercontent.com/zyh3826/UnsupervisedChineseSTSPytorch/main/data/STS_B/cnsd-sts-test.txt [following]\n",
      "--2022-03-22 02:05:37--  https://raw.githubusercontent.com/zyh3826/UnsupervisedChineseSTSPytorch/main/data/STS_B/cnsd-sts-test.txt\n",
      "Resolving raw.githubusercontent.com (raw.githubusercontent.com)... 185.199.110.133, 185.199.108.133, 185.199.111.133, ...\n",
      "Connecting to raw.githubusercontent.com (raw.githubusercontent.com)|185.199.110.133|:443... connected.\n",
      "HTTP request sent, awaiting response... 200 OK\n",
      "Length: 168586 (165K) [text/plain]\n",
      "Saving to: ‘cnsd-sts-test.txt’\n",
      "\n",
      "cnsd-sts-test.txt   100%[===================>] 164.63K  --.-KB/s    in 0.003s  \n",
      "\n",
      "2022-03-22 02:05:37 (52.0 MB/s) - ‘cnsd-sts-test.txt’ saved [168586/168586]\n",
      "\n"
     ]
    }
   ],
   "source": [
    "!wget \"https://github.com/zyh3826/UnsupervisedChineseSTSPytorch/raw/main/data/STS_B/cnsd-sts-test.txt\""
   ]
  },
  {
   "cell_type": "code",
   "execution_count": 6,
   "metadata": {},
   "outputs": [
    {
     "name": "stdout",
     "output_type": "stream",
     "text": [
      "--2022-03-22 02:09:25--  https://github.com/zyh3826/UnsupervisedChineseSTSPytorch/raw/main/data/STS_B/cnsd-sts-dev.txt\n",
      "Resolving github.com (github.com)... 20.205.243.166\n",
      "Connecting to github.com (github.com)|20.205.243.166|:443... connected.\n",
      "HTTP request sent, awaiting response... 302 Found\n",
      "Location: https://raw.githubusercontent.com/zyh3826/UnsupervisedChineseSTSPytorch/main/data/STS_B/cnsd-sts-dev.txt [following]\n",
      "--2022-03-22 02:09:25--  https://raw.githubusercontent.com/zyh3826/UnsupervisedChineseSTSPytorch/main/data/STS_B/cnsd-sts-dev.txt\n",
      "Resolving raw.githubusercontent.com (raw.githubusercontent.com)... 185.199.110.133, 185.199.109.133, 185.199.111.133, ...\n",
      "Connecting to raw.githubusercontent.com (raw.githubusercontent.com)|185.199.110.133|:443... connected.\n",
      "HTTP request sent, awaiting response... 200 OK\n",
      "Length: 208297 (203K) [text/plain]\n",
      "Saving to: ‘cnsd-sts-dev.txt’\n",
      "\n",
      "cnsd-sts-dev.txt    100%[===================>] 203.42K  --.-KB/s    in 0.002s  \n",
      "\n",
      "2022-03-22 02:09:25 (89.1 MB/s) - ‘cnsd-sts-dev.txt’ saved [208297/208297]\n",
      "\n"
     ]
    }
   ],
   "source": [
    "!wget \"https://github.com/zyh3826/UnsupervisedChineseSTSPytorch/raw/main/data/STS_B/cnsd-sts-dev.txt\""
   ]
  },
  {
   "cell_type": "code",
   "execution_count": null,
   "metadata": {},
   "outputs": [],
   "source": []
  },
  {
   "cell_type": "code",
   "execution_count": null,
   "metadata": {},
   "outputs": [],
   "source": []
  }
 ],
 "metadata": {
  "kernelspec": {
   "display_name": "Python 3",
   "language": "python",
   "name": "python3"
  },
  "language_info": {
   "codemirror_mode": {
    "name": "ipython",
    "version": 3
   },
   "file_extension": ".py",
   "mimetype": "text/x-python",
   "name": "python",
   "nbconvert_exporter": "python",
   "pygments_lexer": "ipython3",
   "version": "3.8.6"
  }
 },
 "nbformat": 4,
 "nbformat_minor": 4
}
