{
 "cells": [
  {
   "cell_type": "code",
   "execution_count": 1,
   "metadata": {},
   "outputs": [],
   "source": [
    "import pandas as pd"
   ]
  },
  {
   "cell_type": "code",
   "execution_count": 2,
   "metadata": {},
   "outputs": [
    {
     "name": "stdout",
     "output_type": "stream",
     "text": [
      "cnsd-sts-dev.txt\r\n",
      "cnsd-sts-test.txt\r\n",
      "cnsd-sts-train.txt\r\n"
     ]
    }
   ],
   "source": [
    "!ls . | grep txt"
   ]
  },
  {
   "cell_type": "code",
   "execution_count": 19,
   "metadata": {},
   "outputs": [],
   "source": [
    "def read(f = 'cnsd-sts-dev.txt'):\n",
    "    with open(f) as fp:\n",
    "        content = fp.read()\n",
    "        lines = content.split('\\n')\n",
    "        data = [\n",
    "            x.split('||')\n",
    "            for x in lines\n",
    "            if '||' in x\n",
    "        ]\n",
    "    df = pd.DataFrame(data, columns=['name', 'a', 'b', 't'])\n",
    "    df['t'] = df['t'].astype(int)\n",
    "    return df[['a', 'b', 't']]"
   ]
  },
  {
   "cell_type": "code",
   "execution_count": 20,
   "metadata": {},
   "outputs": [],
   "source": [
    "train = read('cnsd-sts-train.txt')\n",
    "dev = read('cnsd-sts-dev.txt')\n",
    "test = read('cnsd-sts-test.txt')"
   ]
  },
  {
   "cell_type": "code",
   "execution_count": 21,
   "metadata": {},
   "outputs": [],
   "source": [
    "data = pd.concat([train, dev, test])"
   ]
  },
  {
   "cell_type": "code",
   "execution_count": 22,
   "metadata": {},
   "outputs": [
    {
     "data": {
      "text/html": [
       "<div>\n",
       "<style scoped>\n",
       "    .dataframe tbody tr th:only-of-type {\n",
       "        vertical-align: middle;\n",
       "    }\n",
       "\n",
       "    .dataframe tbody tr th {\n",
       "        vertical-align: top;\n",
       "    }\n",
       "\n",
       "    .dataframe thead th {\n",
       "        text-align: right;\n",
       "    }\n",
       "</style>\n",
       "<table border=\"1\" class=\"dataframe\">\n",
       "  <thead>\n",
       "    <tr style=\"text-align: right;\">\n",
       "      <th></th>\n",
       "      <th>a</th>\n",
       "      <th>b</th>\n",
       "      <th>t</th>\n",
       "    </tr>\n",
       "  </thead>\n",
       "  <tbody>\n",
       "    <tr>\n",
       "      <th>0</th>\n",
       "      <td>一架飞机要起飞了。</td>\n",
       "      <td>一架飞机正在起飞。</td>\n",
       "      <td>5</td>\n",
       "    </tr>\n",
       "    <tr>\n",
       "      <th>1</th>\n",
       "      <td>一个男人在吹一支大笛子。</td>\n",
       "      <td>一个人在吹长笛。</td>\n",
       "      <td>3</td>\n",
       "    </tr>\n",
       "    <tr>\n",
       "      <th>2</th>\n",
       "      <td>一个人正把切碎的奶酪撒在比萨饼上。</td>\n",
       "      <td>一个男人正在把切碎的奶酪撒在一块未煮好的比萨饼上。</td>\n",
       "      <td>3</td>\n",
       "    </tr>\n",
       "    <tr>\n",
       "      <th>3</th>\n",
       "      <td>三个人在下棋。</td>\n",
       "      <td>两个人在下棋。</td>\n",
       "      <td>2</td>\n",
       "    </tr>\n",
       "    <tr>\n",
       "      <th>4</th>\n",
       "      <td>一个人在拉大提琴。</td>\n",
       "      <td>一个坐着的人正在拉大提琴。</td>\n",
       "      <td>4</td>\n",
       "    </tr>\n",
       "    <tr>\n",
       "      <th>...</th>\n",
       "      <td>...</td>\n",
       "      <td>...</td>\n",
       "      <td>...</td>\n",
       "    </tr>\n",
       "    <tr>\n",
       "      <th>1356</th>\n",
       "      <td>卢森堡首相因间谍丑闻辞职</td>\n",
       "      <td>卢森堡间谍活动结束后投票</td>\n",
       "      <td>2</td>\n",
       "    </tr>\n",
       "    <tr>\n",
       "      <th>1357</th>\n",
       "      <td>据报道，韩国士兵在与朝鲜接壤的边境杀害了5名战友后逃跑了。</td>\n",
       "      <td>韩国士兵杀害战友和舰队</td>\n",
       "      <td>4</td>\n",
       "    </tr>\n",
       "    <tr>\n",
       "      <th>1358</th>\n",
       "      <td>牧师早读：3月2日</td>\n",
       "      <td>早期阅读：2015年9月3日</td>\n",
       "      <td>2</td>\n",
       "    </tr>\n",
       "    <tr>\n",
       "      <th>1359</th>\n",
       "      <td>随着伊朗谈判的恢复，奥巴马努力平息沙特的担忧。</td>\n",
       "      <td>缅甸努力敲定周日投票的选民名单</td>\n",
       "      <td>0</td>\n",
       "    </tr>\n",
       "    <tr>\n",
       "      <th>1360</th>\n",
       "      <td>韩国宣布MERS疫情结束</td>\n",
       "      <td>朝鲜代表团会见韩国官员</td>\n",
       "      <td>0</td>\n",
       "    </tr>\n",
       "  </tbody>\n",
       "</table>\n",
       "<p>8050 rows × 3 columns</p>\n",
       "</div>"
      ],
      "text/plain": [
       "                                  a                          b  t\n",
       "0                         一架飞机要起飞了。                  一架飞机正在起飞。  5\n",
       "1                      一个男人在吹一支大笛子。                   一个人在吹长笛。  3\n",
       "2                 一个人正把切碎的奶酪撒在比萨饼上。  一个男人正在把切碎的奶酪撒在一块未煮好的比萨饼上。  3\n",
       "3                           三个人在下棋。                    两个人在下棋。  2\n",
       "4                         一个人在拉大提琴。              一个坐着的人正在拉大提琴。  4\n",
       "...                             ...                        ... ..\n",
       "1356                   卢森堡首相因间谍丑闻辞职               卢森堡间谍活动结束后投票  2\n",
       "1357  据报道，韩国士兵在与朝鲜接壤的边境杀害了5名战友后逃跑了。                韩国士兵杀害战友和舰队  4\n",
       "1358                      牧师早读：3月2日             早期阅读：2015年9月3日  2\n",
       "1359        随着伊朗谈判的恢复，奥巴马努力平息沙特的担忧。            缅甸努力敲定周日投票的选民名单  0\n",
       "1360                   韩国宣布MERS疫情结束                朝鲜代表团会见韩国官员  0\n",
       "\n",
       "[8050 rows x 3 columns]"
      ]
     },
     "execution_count": 22,
     "metadata": {},
     "output_type": "execute_result"
    }
   ],
   "source": [
    "data"
   ]
  },
  {
   "cell_type": "code",
   "execution_count": 23,
   "metadata": {},
   "outputs": [],
   "source": [
    "import pickle"
   ]
  },
  {
   "cell_type": "code",
   "execution_count": 24,
   "metadata": {},
   "outputs": [],
   "source": [
    "with open('sim.pkl', 'wb') as fp:\n",
    "    pickle.dump(data, fp)"
   ]
  },
  {
   "cell_type": "code",
   "execution_count": null,
   "metadata": {},
   "outputs": [],
   "source": []
  }
 ],
 "metadata": {
  "kernelspec": {
   "display_name": "Python 3",
   "language": "python",
   "name": "python3"
  },
  "language_info": {
   "codemirror_mode": {
    "name": "ipython",
    "version": 3
   },
   "file_extension": ".py",
   "mimetype": "text/x-python",
   "name": "python",
   "nbconvert_exporter": "python",
   "pygments_lexer": "ipython3",
   "version": "3.8.6"
  }
 },
 "nbformat": 4,
 "nbformat_minor": 4
}
